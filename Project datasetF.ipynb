{
 "cells": [
  {
   "cell_type": "code",
   "execution_count": 1,
   "id": "71838fa9",
   "metadata": {},
   "outputs": [],
   "source": [
    "# !pip install matplotlib\n",
    "# !pip install seaborn\n",
    "# !pip install sweetviz"
   ]
  },
  {
   "cell_type": "code",
   "execution_count": 4,
   "id": "88831e6e",
   "metadata": {},
   "outputs": [],
   "source": [
    "import pandas as pd\n",
    "import matplotlib.pyplot as plt\n",
    "import sweetviz as sw\n",
    "import numpy as np"
   ]
  },
  {
   "cell_type": "markdown",
   "id": "77613436",
   "metadata": {},
   "source": [
    "### Reading Data from computer"
   ]
  },
  {
   "cell_type": "code",
   "execution_count": 5,
   "id": "2a0d7579",
   "metadata": {},
   "outputs": [
    {
     "data": {
      "text/html": [
       "<div>\n",
       "<style scoped>\n",
       "    .dataframe tbody tr th:only-of-type {\n",
       "        vertical-align: middle;\n",
       "    }\n",
       "\n",
       "    .dataframe tbody tr th {\n",
       "        vertical-align: top;\n",
       "    }\n",
       "\n",
       "    .dataframe thead th {\n",
       "        text-align: right;\n",
       "    }\n",
       "</style>\n",
       "<table border=\"1\" class=\"dataframe\">\n",
       "  <thead>\n",
       "    <tr style=\"text-align: right;\">\n",
       "      <th></th>\n",
       "      <th>User ID</th>\n",
       "      <th>Gender</th>\n",
       "      <th>Age</th>\n",
       "      <th>EstimatedSalary</th>\n",
       "      <th>Purchased</th>\n",
       "    </tr>\n",
       "  </thead>\n",
       "  <tbody>\n",
       "    <tr>\n",
       "      <th>0</th>\n",
       "      <td>15624510</td>\n",
       "      <td>Male</td>\n",
       "      <td>19</td>\n",
       "      <td>19000</td>\n",
       "      <td>0</td>\n",
       "    </tr>\n",
       "    <tr>\n",
       "      <th>1</th>\n",
       "      <td>15810944</td>\n",
       "      <td>Male</td>\n",
       "      <td>35</td>\n",
       "      <td>20000</td>\n",
       "      <td>0</td>\n",
       "    </tr>\n",
       "    <tr>\n",
       "      <th>2</th>\n",
       "      <td>15668575</td>\n",
       "      <td>Female</td>\n",
       "      <td>26</td>\n",
       "      <td>43000</td>\n",
       "      <td>0</td>\n",
       "    </tr>\n",
       "    <tr>\n",
       "      <th>3</th>\n",
       "      <td>15603246</td>\n",
       "      <td>Female</td>\n",
       "      <td>27</td>\n",
       "      <td>57000</td>\n",
       "      <td>0</td>\n",
       "    </tr>\n",
       "    <tr>\n",
       "      <th>4</th>\n",
       "      <td>15804002</td>\n",
       "      <td>Male</td>\n",
       "      <td>19</td>\n",
       "      <td>76000</td>\n",
       "      <td>0</td>\n",
       "    </tr>\n",
       "  </tbody>\n",
       "</table>\n",
       "</div>"
      ],
      "text/plain": [
       "    User ID  Gender  Age  EstimatedSalary  Purchased\n",
       "0  15624510    Male   19            19000          0\n",
       "1  15810944    Male   35            20000          0\n",
       "2  15668575  Female   26            43000          0\n",
       "3  15603246  Female   27            57000          0\n",
       "4  15804002    Male   19            76000          0"
      ]
     },
     "execution_count": 5,
     "metadata": {},
     "output_type": "execute_result"
    }
   ],
   "source": [
    "df = pd.read_csv(\"/Users/kurmankarina/Desktop/Social_Network_Ads.csv\")\n",
    "df.head(5)"
   ]
  },
  {
   "cell_type": "code",
   "execution_count": 6,
   "id": "2780b183",
   "metadata": {},
   "outputs": [
    {
     "data": {
      "text/html": [
       "<div>\n",
       "<style scoped>\n",
       "    .dataframe tbody tr th:only-of-type {\n",
       "        vertical-align: middle;\n",
       "    }\n",
       "\n",
       "    .dataframe tbody tr th {\n",
       "        vertical-align: top;\n",
       "    }\n",
       "\n",
       "    .dataframe thead th {\n",
       "        text-align: right;\n",
       "    }\n",
       "</style>\n",
       "<table border=\"1\" class=\"dataframe\">\n",
       "  <thead>\n",
       "    <tr style=\"text-align: right;\">\n",
       "      <th></th>\n",
       "      <th>User ID</th>\n",
       "      <th>Gender</th>\n",
       "      <th>Age</th>\n",
       "      <th>EstimatedSalary</th>\n",
       "      <th>Purchased</th>\n",
       "    </tr>\n",
       "  </thead>\n",
       "  <tbody>\n",
       "    <tr>\n",
       "      <th>395</th>\n",
       "      <td>15691863</td>\n",
       "      <td>Female</td>\n",
       "      <td>46</td>\n",
       "      <td>41000</td>\n",
       "      <td>1</td>\n",
       "    </tr>\n",
       "    <tr>\n",
       "      <th>396</th>\n",
       "      <td>15706071</td>\n",
       "      <td>Male</td>\n",
       "      <td>51</td>\n",
       "      <td>23000</td>\n",
       "      <td>1</td>\n",
       "    </tr>\n",
       "    <tr>\n",
       "      <th>397</th>\n",
       "      <td>15654296</td>\n",
       "      <td>Female</td>\n",
       "      <td>50</td>\n",
       "      <td>20000</td>\n",
       "      <td>1</td>\n",
       "    </tr>\n",
       "    <tr>\n",
       "      <th>398</th>\n",
       "      <td>15755018</td>\n",
       "      <td>Male</td>\n",
       "      <td>36</td>\n",
       "      <td>33000</td>\n",
       "      <td>0</td>\n",
       "    </tr>\n",
       "    <tr>\n",
       "      <th>399</th>\n",
       "      <td>15594041</td>\n",
       "      <td>Female</td>\n",
       "      <td>49</td>\n",
       "      <td>36000</td>\n",
       "      <td>1</td>\n",
       "    </tr>\n",
       "  </tbody>\n",
       "</table>\n",
       "</div>"
      ],
      "text/plain": [
       "      User ID  Gender  Age  EstimatedSalary  Purchased\n",
       "395  15691863  Female   46            41000          1\n",
       "396  15706071    Male   51            23000          1\n",
       "397  15654296  Female   50            20000          1\n",
       "398  15755018    Male   36            33000          0\n",
       "399  15594041  Female   49            36000          1"
      ]
     },
     "execution_count": 6,
     "metadata": {},
     "output_type": "execute_result"
    }
   ],
   "source": [
    "df.tail(5)"
   ]
  },
  {
   "cell_type": "code",
   "execution_count": 7,
   "id": "affe3559",
   "metadata": {},
   "outputs": [
    {
     "data": {
      "text/html": [
       "<div>\n",
       "<style scoped>\n",
       "    .dataframe tbody tr th:only-of-type {\n",
       "        vertical-align: middle;\n",
       "    }\n",
       "\n",
       "    .dataframe tbody tr th {\n",
       "        vertical-align: top;\n",
       "    }\n",
       "\n",
       "    .dataframe thead th {\n",
       "        text-align: right;\n",
       "    }\n",
       "</style>\n",
       "<table border=\"1\" class=\"dataframe\">\n",
       "  <thead>\n",
       "    <tr style=\"text-align: right;\">\n",
       "      <th></th>\n",
       "      <th>User ID</th>\n",
       "      <th>Age</th>\n",
       "      <th>EstimatedSalary</th>\n",
       "      <th>Purchased</th>\n",
       "    </tr>\n",
       "  </thead>\n",
       "  <tbody>\n",
       "    <tr>\n",
       "      <th>count</th>\n",
       "      <td>4.000000e+02</td>\n",
       "      <td>400.000000</td>\n",
       "      <td>400.000000</td>\n",
       "      <td>400.000000</td>\n",
       "    </tr>\n",
       "    <tr>\n",
       "      <th>mean</th>\n",
       "      <td>1.569154e+07</td>\n",
       "      <td>37.655000</td>\n",
       "      <td>69742.500000</td>\n",
       "      <td>0.357500</td>\n",
       "    </tr>\n",
       "    <tr>\n",
       "      <th>std</th>\n",
       "      <td>7.165832e+04</td>\n",
       "      <td>10.482877</td>\n",
       "      <td>34096.960282</td>\n",
       "      <td>0.479864</td>\n",
       "    </tr>\n",
       "    <tr>\n",
       "      <th>min</th>\n",
       "      <td>1.556669e+07</td>\n",
       "      <td>18.000000</td>\n",
       "      <td>15000.000000</td>\n",
       "      <td>0.000000</td>\n",
       "    </tr>\n",
       "    <tr>\n",
       "      <th>25%</th>\n",
       "      <td>1.562676e+07</td>\n",
       "      <td>29.750000</td>\n",
       "      <td>43000.000000</td>\n",
       "      <td>0.000000</td>\n",
       "    </tr>\n",
       "    <tr>\n",
       "      <th>50%</th>\n",
       "      <td>1.569434e+07</td>\n",
       "      <td>37.000000</td>\n",
       "      <td>70000.000000</td>\n",
       "      <td>0.000000</td>\n",
       "    </tr>\n",
       "    <tr>\n",
       "      <th>75%</th>\n",
       "      <td>1.575036e+07</td>\n",
       "      <td>46.000000</td>\n",
       "      <td>88000.000000</td>\n",
       "      <td>1.000000</td>\n",
       "    </tr>\n",
       "    <tr>\n",
       "      <th>max</th>\n",
       "      <td>1.581524e+07</td>\n",
       "      <td>60.000000</td>\n",
       "      <td>150000.000000</td>\n",
       "      <td>1.000000</td>\n",
       "    </tr>\n",
       "  </tbody>\n",
       "</table>\n",
       "</div>"
      ],
      "text/plain": [
       "            User ID         Age  EstimatedSalary   Purchased\n",
       "count  4.000000e+02  400.000000       400.000000  400.000000\n",
       "mean   1.569154e+07   37.655000     69742.500000    0.357500\n",
       "std    7.165832e+04   10.482877     34096.960282    0.479864\n",
       "min    1.556669e+07   18.000000     15000.000000    0.000000\n",
       "25%    1.562676e+07   29.750000     43000.000000    0.000000\n",
       "50%    1.569434e+07   37.000000     70000.000000    0.000000\n",
       "75%    1.575036e+07   46.000000     88000.000000    1.000000\n",
       "max    1.581524e+07   60.000000    150000.000000    1.000000"
      ]
     },
     "execution_count": 7,
     "metadata": {},
     "output_type": "execute_result"
    }
   ],
   "source": [
    "df.describe()"
   ]
  },
  {
   "cell_type": "code",
   "execution_count": 8,
   "id": "3c4332d6",
   "metadata": {},
   "outputs": [
    {
     "data": {
      "text/plain": [
       "User ID            0\n",
       "Gender             0\n",
       "Age                0\n",
       "EstimatedSalary    0\n",
       "Purchased          0\n",
       "dtype: int64"
      ]
     },
     "execution_count": 8,
     "metadata": {},
     "output_type": "execute_result"
    }
   ],
   "source": [
    "df.isna().sum()"
   ]
  },
  {
   "cell_type": "code",
   "execution_count": 9,
   "id": "ef5c96d8",
   "metadata": {},
   "outputs": [
    {
     "name": "stdout",
     "output_type": "stream",
     "text": [
      "<class 'pandas.core.frame.DataFrame'>\n",
      "RangeIndex: 400 entries, 0 to 399\n",
      "Data columns (total 5 columns):\n",
      " #   Column           Non-Null Count  Dtype \n",
      "---  ------           --------------  ----- \n",
      " 0   User ID          400 non-null    int64 \n",
      " 1   Gender           400 non-null    object\n",
      " 2   Age              400 non-null    int64 \n",
      " 3   EstimatedSalary  400 non-null    int64 \n",
      " 4   Purchased        400 non-null    int64 \n",
      "dtypes: int64(4), object(1)\n",
      "memory usage: 15.8+ KB\n"
     ]
    }
   ],
   "source": [
    "df.info()"
   ]
  },
  {
   "cell_type": "code",
   "execution_count": 10,
   "id": "007f29a4",
   "metadata": {},
   "outputs": [
    {
     "name": "stdout",
     "output_type": "stream",
     "text": [
      "Shape of df: (400, 5)\n"
     ]
    }
   ],
   "source": [
    "print(f'Shape of df: {df.shape}')"
   ]
  },
  {
   "cell_type": "code",
   "execution_count": 11,
   "id": "1a22ce6a",
   "metadata": {},
   "outputs": [
    {
     "data": {
      "text/html": [
       "<div>\n",
       "<style scoped>\n",
       "    .dataframe tbody tr th:only-of-type {\n",
       "        vertical-align: middle;\n",
       "    }\n",
       "\n",
       "    .dataframe tbody tr th {\n",
       "        vertical-align: top;\n",
       "    }\n",
       "\n",
       "    .dataframe thead th {\n",
       "        text-align: right;\n",
       "    }\n",
       "</style>\n",
       "<table border=\"1\" class=\"dataframe\">\n",
       "  <thead>\n",
       "    <tr style=\"text-align: right;\">\n",
       "      <th></th>\n",
       "      <th>User ID</th>\n",
       "      <th>Age</th>\n",
       "      <th>EstimatedSalary</th>\n",
       "      <th>Purchased</th>\n",
       "    </tr>\n",
       "  </thead>\n",
       "  <tbody>\n",
       "    <tr>\n",
       "      <th>User ID</th>\n",
       "      <td>1.000000</td>\n",
       "      <td>-0.000721</td>\n",
       "      <td>0.071097</td>\n",
       "      <td>0.007120</td>\n",
       "    </tr>\n",
       "    <tr>\n",
       "      <th>Age</th>\n",
       "      <td>-0.000721</td>\n",
       "      <td>1.000000</td>\n",
       "      <td>0.155238</td>\n",
       "      <td>0.622454</td>\n",
       "    </tr>\n",
       "    <tr>\n",
       "      <th>EstimatedSalary</th>\n",
       "      <td>0.071097</td>\n",
       "      <td>0.155238</td>\n",
       "      <td>1.000000</td>\n",
       "      <td>0.362083</td>\n",
       "    </tr>\n",
       "    <tr>\n",
       "      <th>Purchased</th>\n",
       "      <td>0.007120</td>\n",
       "      <td>0.622454</td>\n",
       "      <td>0.362083</td>\n",
       "      <td>1.000000</td>\n",
       "    </tr>\n",
       "  </tbody>\n",
       "</table>\n",
       "</div>"
      ],
      "text/plain": [
       "                  User ID       Age  EstimatedSalary  Purchased\n",
       "User ID          1.000000 -0.000721         0.071097   0.007120\n",
       "Age             -0.000721  1.000000         0.155238   0.622454\n",
       "EstimatedSalary  0.071097  0.155238         1.000000   0.362083\n",
       "Purchased        0.007120  0.622454         0.362083   1.000000"
      ]
     },
     "execution_count": 11,
     "metadata": {},
     "output_type": "execute_result"
    }
   ],
   "source": [
    "df.corr()"
   ]
  },
  {
   "cell_type": "markdown",
   "id": "39bd2c85",
   "metadata": {},
   "source": [
    "##### Our data is structured and does not need data cleanup"
   ]
  },
  {
   "cell_type": "markdown",
   "id": "b1c4bd74",
   "metadata": {},
   "source": [
    "### Add column: 'Age_median'"
   ]
  },
  {
   "cell_type": "code",
   "execution_count": 12,
   "id": "43ee72a2",
   "metadata": {},
   "outputs": [],
   "source": [
    "df[\"Age_median\"] = df['Age'].median()\n",
    "df = df.astype({'Age_median': 'int'})"
   ]
  },
  {
   "cell_type": "code",
   "execution_count": 13,
   "id": "19b8bd76",
   "metadata": {},
   "outputs": [
    {
     "data": {
      "text/html": [
       "<div>\n",
       "<style scoped>\n",
       "    .dataframe tbody tr th:only-of-type {\n",
       "        vertical-align: middle;\n",
       "    }\n",
       "\n",
       "    .dataframe tbody tr th {\n",
       "        vertical-align: top;\n",
       "    }\n",
       "\n",
       "    .dataframe thead th {\n",
       "        text-align: right;\n",
       "    }\n",
       "</style>\n",
       "<table border=\"1\" class=\"dataframe\">\n",
       "  <thead>\n",
       "    <tr style=\"text-align: right;\">\n",
       "      <th></th>\n",
       "      <th>User ID</th>\n",
       "      <th>Gender</th>\n",
       "      <th>Age</th>\n",
       "      <th>EstimatedSalary</th>\n",
       "      <th>Purchased</th>\n",
       "      <th>Age_median</th>\n",
       "    </tr>\n",
       "  </thead>\n",
       "  <tbody>\n",
       "    <tr>\n",
       "      <th>0</th>\n",
       "      <td>15624510</td>\n",
       "      <td>Male</td>\n",
       "      <td>19</td>\n",
       "      <td>19000</td>\n",
       "      <td>0</td>\n",
       "      <td>37</td>\n",
       "    </tr>\n",
       "    <tr>\n",
       "      <th>1</th>\n",
       "      <td>15810944</td>\n",
       "      <td>Male</td>\n",
       "      <td>35</td>\n",
       "      <td>20000</td>\n",
       "      <td>0</td>\n",
       "      <td>37</td>\n",
       "    </tr>\n",
       "    <tr>\n",
       "      <th>2</th>\n",
       "      <td>15668575</td>\n",
       "      <td>Female</td>\n",
       "      <td>26</td>\n",
       "      <td>43000</td>\n",
       "      <td>0</td>\n",
       "      <td>37</td>\n",
       "    </tr>\n",
       "    <tr>\n",
       "      <th>3</th>\n",
       "      <td>15603246</td>\n",
       "      <td>Female</td>\n",
       "      <td>27</td>\n",
       "      <td>57000</td>\n",
       "      <td>0</td>\n",
       "      <td>37</td>\n",
       "    </tr>\n",
       "    <tr>\n",
       "      <th>4</th>\n",
       "      <td>15804002</td>\n",
       "      <td>Male</td>\n",
       "      <td>19</td>\n",
       "      <td>76000</td>\n",
       "      <td>0</td>\n",
       "      <td>37</td>\n",
       "    </tr>\n",
       "  </tbody>\n",
       "</table>\n",
       "</div>"
      ],
      "text/plain": [
       "    User ID  Gender  Age  EstimatedSalary  Purchased  Age_median\n",
       "0  15624510    Male   19            19000          0          37\n",
       "1  15810944    Male   35            20000          0          37\n",
       "2  15668575  Female   26            43000          0          37\n",
       "3  15603246  Female   27            57000          0          37\n",
       "4  15804002    Male   19            76000          0          37"
      ]
     },
     "execution_count": 13,
     "metadata": {},
     "output_type": "execute_result"
    }
   ],
   "source": [
    "df.head(5)"
   ]
  },
  {
   "cell_type": "markdown",
   "id": "c5f54332",
   "metadata": {},
   "source": [
    "### Add column: 'Salary_median'"
   ]
  },
  {
   "cell_type": "code",
   "execution_count": 14,
   "id": "c28bc633",
   "metadata": {},
   "outputs": [],
   "source": [
    "df[\"Salary_median\"] = df['EstimatedSalary'].median()\n",
    "df = df.astype({'Salary_median': 'int'})"
   ]
  },
  {
   "cell_type": "markdown",
   "id": "ccbb58d2",
   "metadata": {},
   "source": [
    "##### Check the data again"
   ]
  },
  {
   "cell_type": "code",
   "execution_count": 15,
   "id": "5f817611",
   "metadata": {},
   "outputs": [
    {
     "data": {
      "text/html": [
       "<div>\n",
       "<style scoped>\n",
       "    .dataframe tbody tr th:only-of-type {\n",
       "        vertical-align: middle;\n",
       "    }\n",
       "\n",
       "    .dataframe tbody tr th {\n",
       "        vertical-align: top;\n",
       "    }\n",
       "\n",
       "    .dataframe thead th {\n",
       "        text-align: right;\n",
       "    }\n",
       "</style>\n",
       "<table border=\"1\" class=\"dataframe\">\n",
       "  <thead>\n",
       "    <tr style=\"text-align: right;\">\n",
       "      <th></th>\n",
       "      <th>User ID</th>\n",
       "      <th>Gender</th>\n",
       "      <th>Age</th>\n",
       "      <th>EstimatedSalary</th>\n",
       "      <th>Purchased</th>\n",
       "      <th>Age_median</th>\n",
       "      <th>Salary_median</th>\n",
       "    </tr>\n",
       "  </thead>\n",
       "  <tbody>\n",
       "    <tr>\n",
       "      <th>395</th>\n",
       "      <td>15691863</td>\n",
       "      <td>Female</td>\n",
       "      <td>46</td>\n",
       "      <td>41000</td>\n",
       "      <td>1</td>\n",
       "      <td>37</td>\n",
       "      <td>70000</td>\n",
       "    </tr>\n",
       "    <tr>\n",
       "      <th>396</th>\n",
       "      <td>15706071</td>\n",
       "      <td>Male</td>\n",
       "      <td>51</td>\n",
       "      <td>23000</td>\n",
       "      <td>1</td>\n",
       "      <td>37</td>\n",
       "      <td>70000</td>\n",
       "    </tr>\n",
       "    <tr>\n",
       "      <th>397</th>\n",
       "      <td>15654296</td>\n",
       "      <td>Female</td>\n",
       "      <td>50</td>\n",
       "      <td>20000</td>\n",
       "      <td>1</td>\n",
       "      <td>37</td>\n",
       "      <td>70000</td>\n",
       "    </tr>\n",
       "    <tr>\n",
       "      <th>398</th>\n",
       "      <td>15755018</td>\n",
       "      <td>Male</td>\n",
       "      <td>36</td>\n",
       "      <td>33000</td>\n",
       "      <td>0</td>\n",
       "      <td>37</td>\n",
       "      <td>70000</td>\n",
       "    </tr>\n",
       "    <tr>\n",
       "      <th>399</th>\n",
       "      <td>15594041</td>\n",
       "      <td>Female</td>\n",
       "      <td>49</td>\n",
       "      <td>36000</td>\n",
       "      <td>1</td>\n",
       "      <td>37</td>\n",
       "      <td>70000</td>\n",
       "    </tr>\n",
       "  </tbody>\n",
       "</table>\n",
       "</div>"
      ],
      "text/plain": [
       "      User ID  Gender  Age  EstimatedSalary  Purchased  Age_median  \\\n",
       "395  15691863  Female   46            41000          1          37   \n",
       "396  15706071    Male   51            23000          1          37   \n",
       "397  15654296  Female   50            20000          1          37   \n",
       "398  15755018    Male   36            33000          0          37   \n",
       "399  15594041  Female   49            36000          1          37   \n",
       "\n",
       "     Salary_median  \n",
       "395          70000  \n",
       "396          70000  \n",
       "397          70000  \n",
       "398          70000  \n",
       "399          70000  "
      ]
     },
     "execution_count": 15,
     "metadata": {},
     "output_type": "execute_result"
    }
   ],
   "source": [
    "df.tail(5)"
   ]
  },
  {
   "cell_type": "code",
   "execution_count": 16,
   "id": "2e594cd3",
   "metadata": {},
   "outputs": [
    {
     "name": "stdout",
     "output_type": "stream",
     "text": [
      "<class 'pandas.core.frame.DataFrame'>\n",
      "RangeIndex: 400 entries, 0 to 399\n",
      "Data columns (total 7 columns):\n",
      " #   Column           Non-Null Count  Dtype \n",
      "---  ------           --------------  ----- \n",
      " 0   User ID          400 non-null    int64 \n",
      " 1   Gender           400 non-null    object\n",
      " 2   Age              400 non-null    int64 \n",
      " 3   EstimatedSalary  400 non-null    int64 \n",
      " 4   Purchased        400 non-null    int64 \n",
      " 5   Age_median       400 non-null    int64 \n",
      " 6   Salary_median    400 non-null    int64 \n",
      "dtypes: int64(6), object(1)\n",
      "memory usage: 22.0+ KB\n"
     ]
    }
   ],
   "source": [
    "df.info()"
   ]
  },
  {
   "cell_type": "markdown",
   "id": "a121bb2b",
   "metadata": {},
   "source": [
    "### Data Analysis: part 1"
   ]
  },
  {
   "cell_type": "markdown",
   "id": "5bc3b837",
   "metadata": {},
   "source": [
    "#### 1. How many females/males in data?"
   ]
  },
  {
   "cell_type": "code",
   "execution_count": 17,
   "id": "b35bf414",
   "metadata": {},
   "outputs": [
    {
     "data": {
      "text/plain": [
       "Female    204\n",
       "Male      196\n",
       "Name: Gender, dtype: int64"
      ]
     },
     "execution_count": 17,
     "metadata": {},
     "output_type": "execute_result"
    }
   ],
   "source": [
    "df['Gender'].value_counts()"
   ]
  },
  {
   "cell_type": "markdown",
   "id": "43082694",
   "metadata": {},
   "source": [
    "#### 2. How many times female/males purchased add object?"
   ]
  },
  {
   "cell_type": "code",
   "execution_count": 18,
   "id": "bc1a5c50",
   "metadata": {},
   "outputs": [
    {
     "name": "stdout",
     "output_type": "stream",
     "text": [
      "Male: 66\n",
      "Female: 77\n"
     ]
    }
   ],
   "source": [
    "print(f\"Male: {df[(df['Purchased'] == 1) & (df['Gender'] == 'Male')]['Purchased'].count()}\")\n",
    "print(f\"Female: {df[(df['Purchased'] == 1) & (df['Gender'] == 'Female')]['Purchased'].count()}\")"
   ]
  },
  {
   "cell_type": "markdown",
   "id": "dd1667e8",
   "metadata": {},
   "source": [
    "#### 3. Median of the salary for male/female?"
   ]
  },
  {
   "cell_type": "code",
   "execution_count": 19,
   "id": "6d4bdda1",
   "metadata": {},
   "outputs": [
    {
     "name": "stdout",
     "output_type": "stream",
     "text": [
      "Male median salary: 68000.0\n",
      "Female median salary: 70500.0\n"
     ]
    }
   ],
   "source": [
    "print(f\"Male median salary: {df[df['Gender'] == 'Male']['EstimatedSalary'].median()}\")\n",
    "print(f\"Female median salary: {df[df['Gender'] == 'Female']['EstimatedSalary'].median()}\")"
   ]
  },
  {
   "cell_type": "markdown",
   "id": "c55cfb76",
   "metadata": {},
   "source": [
    "### Data Analysis: part 2"
   ]
  },
  {
   "cell_type": "markdown",
   "id": "ad79957f",
   "metadata": {},
   "source": [
    "#### 1. Amount of purchased depents on salary?"
   ]
  },
  {
   "cell_type": "code",
   "execution_count": 20,
   "id": "8eda25f3",
   "metadata": {},
   "outputs": [
    {
     "name": "stdout",
     "output_type": "stream",
     "text": [
      "All purchases: 143\n",
      "Amount purchasers with salary less then 30000$: 18\n",
      "Amount purchasers with salary from 30000$ to 60000$: 20\n",
      "Amount purchasers with salary from 60000$ to 90000$: 47\n",
      "Amount purchasers with salary from 90000$ to 120000$: 72\n",
      "Amount purchasers with salary from 120000$ to 150000$: 105\n"
     ]
    }
   ],
   "source": [
    "print(f\"All purchases: {df[df['Purchased'] == 1]['Purchased'].count()}\")\n",
    "print(f\"Amount purchasers with salary less then 30000$: {df[(df['Purchased'] == 1) & (df['EstimatedSalary'] < 30000)]['Purchased'].count()}\")\n",
    "print(f\"Amount purchasers with salary from 30000$ to 60000$: {df[(df['Purchased'] == 1) & (df['EstimatedSalary'] <= 30000) & (df['EstimatedSalary'] < 60000)]['Purchased'].count()}\")\n",
    "print(f\"Amount purchasers with salary from 60000$ to 90000$: {df[(df['Purchased'] == 1) & (df['EstimatedSalary'] <= 60000) & (df['EstimatedSalary'] < 90000)]['Purchased'].count()}\")\n",
    "print(f\"Amount purchasers with salary from 90000$ to 120000$: {df[(df['Purchased'] == 1) & (df['EstimatedSalary'] <= 90000) & (df['EstimatedSalary'] < 120000)]['Purchased'].count()}\")\n",
    "print(f\"Amount purchasers with salary from 120000$ to 150000$: {df[(df['Purchased'] == 1) & (df['EstimatedSalary'] <= 120000) & (df['EstimatedSalary'] <= 150000)]['Purchased'].count()}\")"
   ]
  },
  {
   "cell_type": "markdown",
   "id": "8e7cb375",
   "metadata": {},
   "source": [
    "From these data, we can conclude that the assumption was correct"
   ]
  },
  {
   "cell_type": "markdown",
   "id": "608dab45",
   "metadata": {},
   "source": [
    "#### 2. With salary under 20000 people not making a purchases?"
   ]
  },
  {
   "cell_type": "code",
   "execution_count": 21,
   "id": "1fac4b75",
   "metadata": {},
   "outputs": [
    {
     "data": {
      "text/plain": [
       "0"
      ]
     },
     "execution_count": 21,
     "metadata": {},
     "output_type": "execute_result"
    }
   ],
   "source": [
    "df[(df[\"EstimatedSalary\"] < 20000) & (df['Purchased'] == 1)]['Purchased'].count()"
   ]
  },
  {
   "cell_type": "markdown",
   "id": "a736d4e6",
   "metadata": {},
   "source": [
    "From these data, we can conclude that the assumption was correct"
   ]
  },
  {
   "cell_type": "markdown",
   "id": "f6ed9e2e",
   "metadata": {},
   "source": [
    "#### 3. In an age of 25 till 35 purchases making more often"
   ]
  },
  {
   "cell_type": "code",
   "execution_count": 22,
   "id": "d4b7966d",
   "metadata": {},
   "outputs": [
    {
     "name": "stdout",
     "output_type": "stream",
     "text": [
      "Amount of purchases made by people under 25 y.o: 0\n",
      "Amount of purchases made by people older 35 y.o: 126\n",
      "Amount of purchases made by people from 25 y.o to 35 y.o: 17\n"
     ]
    }
   ],
   "source": [
    "print(f\"Amount of purchases made by people under 25 y.o: {df[(df['Age'] < 25) & (df['Purchased'] == 1)]['Purchased'].count()}\")\n",
    "print(f\"Amount of purchases made by people older 35 y.o: {df[(df['Age'] > 35) & (df['Purchased'] == 1)]['Purchased'].count()}\")\n",
    "print(f\"Amount of purchases made by people from 25 y.o to 35 y.o: {df[(df['Age'] >= 25) & (df['Age'] <= 35) & (df['Purchased'] == 1)]['Purchased'].count()}\")"
   ]
  },
  {
   "cell_type": "markdown",
   "id": "d4ed5310",
   "metadata": {},
   "source": [
    "From this data we can conclude that people that over 35 y.o making purchases more often"
   ]
  },
  {
   "cell_type": "markdown",
   "id": "6adc92e9",
   "metadata": {},
   "source": [
    "#### 4. People older then 35 y.o and geting more then 90000 making purchases more often then everybody else"
   ]
  },
  {
   "cell_type": "code",
   "execution_count": 23,
   "id": "a309dfb0",
   "metadata": {},
   "outputs": [
    {
     "name": "stdout",
     "output_type": "stream",
     "text": [
      "People older 35 and makimg over 90000$: 67\n",
      "People younger 35 and makimg less then 90000$: 125\n"
     ]
    }
   ],
   "source": [
    "print(f\"People older 35 and makimg over 90000$: {df[(df['Age'] >= 35) & (df['EstimatedSalary'] >= 90000)]['Purchased'].count()}\")\n",
    "print(f\"People younger 35 and makimg less then 90000$: {df[(df['Age'] < 35) & (df['EstimatedSalary'] < 90000)]['Purchased'].count()}\")"
   ]
  },
  {
   "cell_type": "markdown",
   "id": "9cad519b",
   "metadata": {},
   "source": [
    "Assumtion was wrong, situation is opposite "
   ]
  },
  {
   "cell_type": "markdown",
   "id": "258a5dd8",
   "metadata": {},
   "source": [
    "#### 5. Female earn less then male?"
   ]
  },
  {
   "cell_type": "code",
   "execution_count": 24,
   "id": "c2909fbf",
   "metadata": {},
   "outputs": [
    {
     "name": "stdout",
     "output_type": "stream",
     "text": [
      "Male median salary: 68000.0\n",
      "Female median salary: 70500.0\n"
     ]
    }
   ],
   "source": [
    "print(f\"Male median salary: {df[df['Gender'] == 'Male']['EstimatedSalary'].median()}\")\n",
    "print(f\"Female median salary: {df[df['Gender'] == 'Female']['EstimatedSalary'].median()}\")"
   ]
  },
  {
   "cell_type": "markdown",
   "id": "c4bbd8b1",
   "metadata": {},
   "source": [
    "From the given data assumtion is wrong"
   ]
  },
  {
   "cell_type": "markdown",
   "id": "d5533fad",
   "metadata": {},
   "source": [
    "#### 6.The average age of a man who makes purchases is greater than the age of women, and because of this, the average salary of this man is greater than that of women"
   ]
  },
  {
   "cell_type": "code",
   "execution_count": 25,
   "id": "7c0e1a8e",
   "metadata": {},
   "outputs": [
    {
     "name": "stdout",
     "output_type": "stream",
     "text": [
      "Male who purchased median age: 46.0\n",
      "Female who purchased median age: 48.0\n",
      "Male who purchased median salary: 87500.0\n",
      "Female who purchased median salary: 96000.0\n"
     ]
    }
   ],
   "source": [
    "print(f\"Male who purchased median age: {df[(df['Gender'] == 'Male') & (df['Purchased'] == 1)]['Age'].median()}\")\n",
    "print(f\"Female who purchased median age: {df[(df['Gender'] == 'Female') & (df['Purchased'] == 1)]['Age'].median()}\")\n",
    "print(f\"Male who purchased median salary: {df[(df['Gender'] == 'Male') & (df['Purchased'] == 1)]['EstimatedSalary'].median()}\")\n",
    "print(f\"Female who purchased median salary: {df[(df['Gender'] == 'Female') & (df['Purchased'] == 1)]['EstimatedSalary'].median()}\")"
   ]
  },
  {
   "cell_type": "markdown",
   "id": "33a94694",
   "metadata": {},
   "source": [
    "Thus, the average age of men shopping is less than the age of women, and, moreover, the average salary of women is also higher than that of men"
   ]
  },
  {
   "cell_type": "markdown",
   "id": "679063d5",
   "metadata": {},
   "source": [
    "### Data Analysis: part 3"
   ]
  },
  {
   "cell_type": "markdown",
   "id": "6e1b40dc",
   "metadata": {},
   "source": [
    "##### Let's try to find more information about the data"
   ]
  },
  {
   "cell_type": "code",
   "execution_count": 26,
   "id": "bddcf54f",
   "metadata": {},
   "outputs": [
    {
     "data": {
      "application/vnd.jupyter.widget-view+json": {
       "model_id": "9c210bac5242471fb6e07c04e1e19aec",
       "version_major": 2,
       "version_minor": 0
      },
      "text/plain": [
       "                                             |      | [  0%]   00:00 -> (? left)"
      ]
     },
     "metadata": {},
     "output_type": "display_data"
    },
    {
     "name": "stdout",
     "output_type": "stream",
     "text": [
      "Report output.html was generated! NOTEBOOK/COLAB USERS: the web browser MAY not pop up, regardless, the report IS saved in your notebook/colab files.\n"
     ]
    }
   ],
   "source": [
    "analyze_one = sw.analyze(df)\n",
    "analyze_one.show_html('output.html', open_browser=True)"
   ]
  },
  {
   "cell_type": "markdown",
   "id": "8af69f4b",
   "metadata": {},
   "source": [
    "##### Let's divide the previous information by gender"
   ]
  },
  {
   "cell_type": "code",
   "execution_count": 27,
   "id": "af0b8437",
   "metadata": {},
   "outputs": [
    {
     "data": {
      "application/vnd.jupyter.widget-view+json": {
       "model_id": "395a0f20f61b4fdbb90b16e002e8e9f4",
       "version_major": 2,
       "version_minor": 0
      },
      "text/plain": [
       "                                             |      | [  0%]   00:00 -> (? left)"
      ]
     },
     "metadata": {},
     "output_type": "display_data"
    },
    {
     "name": "stdout",
     "output_type": "stream",
     "text": [
      "Report Female vs Male.html was generated! NOTEBOOK/COLAB USERS: the web browser MAY not pop up, regardless, the report IS saved in your notebook/colab files.\n"
     ]
    }
   ],
   "source": [
    "report = sw.compare_intra(df, df[\"Gender\"] == \"Female\", [\"Female\", \"Male\"])\n",
    "report.show_html('Female vs Male.html')"
   ]
  },
  {
   "cell_type": "markdown",
   "id": "9c5f36d3",
   "metadata": {},
   "source": [
    "### Reading Data from computer 2nd dataset"
   ]
  },
  {
   "cell_type": "markdown",
   "id": "b40a5566",
   "metadata": {},
   "source": [
    "##### Let's add a new dataset in order to test more theories"
   ]
  },
  {
   "cell_type": "markdown",
   "id": "27cab822",
   "metadata": {},
   "source": [
    "##### Checking the data"
   ]
  },
  {
   "cell_type": "code",
   "execution_count": 28,
   "id": "19a65040",
   "metadata": {},
   "outputs": [
    {
     "data": {
      "text/html": [
       "<div>\n",
       "<style scoped>\n",
       "    .dataframe tbody tr th:only-of-type {\n",
       "        vertical-align: middle;\n",
       "    }\n",
       "\n",
       "    .dataframe tbody tr th {\n",
       "        vertical-align: top;\n",
       "    }\n",
       "\n",
       "    .dataframe thead th {\n",
       "        text-align: right;\n",
       "    }\n",
       "</style>\n",
       "<table border=\"1\" class=\"dataframe\">\n",
       "  <thead>\n",
       "    <tr style=\"text-align: right;\">\n",
       "      <th></th>\n",
       "      <th>age</th>\n",
       "      <th>workclass</th>\n",
       "      <th>fnlwgt</th>\n",
       "      <th>education</th>\n",
       "      <th>educational-num</th>\n",
       "      <th>marital-status</th>\n",
       "      <th>occupation</th>\n",
       "      <th>relationship</th>\n",
       "      <th>race</th>\n",
       "      <th>gender</th>\n",
       "      <th>capital-gain</th>\n",
       "      <th>capital-loss</th>\n",
       "      <th>hours-per-week</th>\n",
       "      <th>native-country</th>\n",
       "    </tr>\n",
       "  </thead>\n",
       "  <tbody>\n",
       "    <tr>\n",
       "      <th>0</th>\n",
       "      <td>39</td>\n",
       "      <td>Self-emp-not-inc</td>\n",
       "      <td>327120</td>\n",
       "      <td>HS-grad</td>\n",
       "      <td>9</td>\n",
       "      <td>Married-civ-spouse</td>\n",
       "      <td>Craft-repair</td>\n",
       "      <td>Husband</td>\n",
       "      <td>White</td>\n",
       "      <td>Male</td>\n",
       "      <td>0</td>\n",
       "      <td>0</td>\n",
       "      <td>40</td>\n",
       "      <td>Portugal</td>\n",
       "    </tr>\n",
       "    <tr>\n",
       "      <th>1</th>\n",
       "      <td>32</td>\n",
       "      <td>Private</td>\n",
       "      <td>123253</td>\n",
       "      <td>Assoc-acdm</td>\n",
       "      <td>12</td>\n",
       "      <td>Married-civ-spouse</td>\n",
       "      <td>Craft-repair</td>\n",
       "      <td>Husband</td>\n",
       "      <td>White</td>\n",
       "      <td>Male</td>\n",
       "      <td>0</td>\n",
       "      <td>0</td>\n",
       "      <td>42</td>\n",
       "      <td>United-States</td>\n",
       "    </tr>\n",
       "    <tr>\n",
       "      <th>2</th>\n",
       "      <td>47</td>\n",
       "      <td>Private</td>\n",
       "      <td>232628</td>\n",
       "      <td>HS-grad</td>\n",
       "      <td>9</td>\n",
       "      <td>Married-civ-spouse</td>\n",
       "      <td>Craft-repair</td>\n",
       "      <td>Husband</td>\n",
       "      <td>Black</td>\n",
       "      <td>Male</td>\n",
       "      <td>0</td>\n",
       "      <td>0</td>\n",
       "      <td>40</td>\n",
       "      <td>United-States</td>\n",
       "    </tr>\n",
       "    <tr>\n",
       "      <th>3</th>\n",
       "      <td>19</td>\n",
       "      <td>Private</td>\n",
       "      <td>374262</td>\n",
       "      <td>12th</td>\n",
       "      <td>8</td>\n",
       "      <td>Never-married</td>\n",
       "      <td>Handlers-cleaners</td>\n",
       "      <td>Own-child</td>\n",
       "      <td>White</td>\n",
       "      <td>Male</td>\n",
       "      <td>0</td>\n",
       "      <td>0</td>\n",
       "      <td>20</td>\n",
       "      <td>United-States</td>\n",
       "    </tr>\n",
       "    <tr>\n",
       "      <th>4</th>\n",
       "      <td>46</td>\n",
       "      <td>Self-emp-not-inc</td>\n",
       "      <td>311231</td>\n",
       "      <td>HS-grad</td>\n",
       "      <td>9</td>\n",
       "      <td>Married-civ-spouse</td>\n",
       "      <td>Farming-fishing</td>\n",
       "      <td>Husband</td>\n",
       "      <td>White</td>\n",
       "      <td>Male</td>\n",
       "      <td>0</td>\n",
       "      <td>0</td>\n",
       "      <td>40</td>\n",
       "      <td>United-States</td>\n",
       "    </tr>\n",
       "  </tbody>\n",
       "</table>\n",
       "</div>"
      ],
      "text/plain": [
       "   age         workclass  fnlwgt   education  educational-num  \\\n",
       "0   39  Self-emp-not-inc  327120     HS-grad                9   \n",
       "1   32           Private  123253  Assoc-acdm               12   \n",
       "2   47           Private  232628     HS-grad                9   \n",
       "3   19           Private  374262        12th                8   \n",
       "4   46  Self-emp-not-inc  311231     HS-grad                9   \n",
       "\n",
       "       marital-status         occupation relationship   race gender  \\\n",
       "0  Married-civ-spouse       Craft-repair      Husband  White   Male   \n",
       "1  Married-civ-spouse       Craft-repair      Husband  White   Male   \n",
       "2  Married-civ-spouse       Craft-repair      Husband  Black   Male   \n",
       "3       Never-married  Handlers-cleaners    Own-child  White   Male   \n",
       "4  Married-civ-spouse    Farming-fishing      Husband  White   Male   \n",
       "\n",
       "   capital-gain  capital-loss  hours-per-week native-country  \n",
       "0             0             0              40       Portugal  \n",
       "1             0             0              42  United-States  \n",
       "2             0             0              40  United-States  \n",
       "3             0             0              20  United-States  \n",
       "4             0             0              40  United-States  "
      ]
     },
     "execution_count": 28,
     "metadata": {},
     "output_type": "execute_result"
    }
   ],
   "source": [
    "df2 = pd.read_csv(\"/Users/kurmankarina/Desktop/test.csv\")\n",
    "df2.head(5)"
   ]
  },
  {
   "cell_type": "code",
   "execution_count": 29,
   "id": "784f85fc",
   "metadata": {},
   "outputs": [
    {
     "data": {
      "text/html": [
       "<div>\n",
       "<style scoped>\n",
       "    .dataframe tbody tr th:only-of-type {\n",
       "        vertical-align: middle;\n",
       "    }\n",
       "\n",
       "    .dataframe tbody tr th {\n",
       "        vertical-align: top;\n",
       "    }\n",
       "\n",
       "    .dataframe thead th {\n",
       "        text-align: right;\n",
       "    }\n",
       "</style>\n",
       "<table border=\"1\" class=\"dataframe\">\n",
       "  <thead>\n",
       "    <tr style=\"text-align: right;\">\n",
       "      <th></th>\n",
       "      <th>age</th>\n",
       "      <th>workclass</th>\n",
       "      <th>fnlwgt</th>\n",
       "      <th>education</th>\n",
       "      <th>educational-num</th>\n",
       "      <th>marital-status</th>\n",
       "      <th>occupation</th>\n",
       "      <th>relationship</th>\n",
       "      <th>race</th>\n",
       "      <th>gender</th>\n",
       "      <th>capital-gain</th>\n",
       "      <th>capital-loss</th>\n",
       "      <th>hours-per-week</th>\n",
       "      <th>native-country</th>\n",
       "    </tr>\n",
       "  </thead>\n",
       "  <tbody>\n",
       "    <tr>\n",
       "      <th>894</th>\n",
       "      <td>27</td>\n",
       "      <td>Private</td>\n",
       "      <td>302406</td>\n",
       "      <td>Masters</td>\n",
       "      <td>14</td>\n",
       "      <td>Married-civ-spouse</td>\n",
       "      <td>Prof-specialty</td>\n",
       "      <td>Husband</td>\n",
       "      <td>White</td>\n",
       "      <td>Male</td>\n",
       "      <td>0</td>\n",
       "      <td>0</td>\n",
       "      <td>55</td>\n",
       "      <td>United-States</td>\n",
       "    </tr>\n",
       "    <tr>\n",
       "      <th>895</th>\n",
       "      <td>17</td>\n",
       "      <td>Private</td>\n",
       "      <td>218124</td>\n",
       "      <td>11th</td>\n",
       "      <td>7</td>\n",
       "      <td>Never-married</td>\n",
       "      <td>Sales</td>\n",
       "      <td>Own-child</td>\n",
       "      <td>White</td>\n",
       "      <td>Female</td>\n",
       "      <td>0</td>\n",
       "      <td>0</td>\n",
       "      <td>20</td>\n",
       "      <td>United-States</td>\n",
       "    </tr>\n",
       "    <tr>\n",
       "      <th>896</th>\n",
       "      <td>24</td>\n",
       "      <td>Private</td>\n",
       "      <td>127139</td>\n",
       "      <td>Some-college</td>\n",
       "      <td>10</td>\n",
       "      <td>Never-married</td>\n",
       "      <td>Adm-clerical</td>\n",
       "      <td>Own-child</td>\n",
       "      <td>White</td>\n",
       "      <td>Female</td>\n",
       "      <td>0</td>\n",
       "      <td>0</td>\n",
       "      <td>40</td>\n",
       "      <td>United-States</td>\n",
       "    </tr>\n",
       "    <tr>\n",
       "      <th>897</th>\n",
       "      <td>35</td>\n",
       "      <td>Private</td>\n",
       "      <td>132879</td>\n",
       "      <td>Some-college</td>\n",
       "      <td>10</td>\n",
       "      <td>Married-civ-spouse</td>\n",
       "      <td>Tech-support</td>\n",
       "      <td>Husband</td>\n",
       "      <td>White</td>\n",
       "      <td>Male</td>\n",
       "      <td>0</td>\n",
       "      <td>0</td>\n",
       "      <td>40</td>\n",
       "      <td>United-States</td>\n",
       "    </tr>\n",
       "    <tr>\n",
       "      <th>898</th>\n",
       "      <td>37</td>\n",
       "      <td>Local-gov</td>\n",
       "      <td>44694</td>\n",
       "      <td>Masters</td>\n",
       "      <td>14</td>\n",
       "      <td>Married-civ-spouse</td>\n",
       "      <td>Prof-specialty</td>\n",
       "      <td>Wife</td>\n",
       "      <td>White</td>\n",
       "      <td>Female</td>\n",
       "      <td>0</td>\n",
       "      <td>0</td>\n",
       "      <td>45</td>\n",
       "      <td>United-States</td>\n",
       "    </tr>\n",
       "  </tbody>\n",
       "</table>\n",
       "</div>"
      ],
      "text/plain": [
       "     age  workclass  fnlwgt     education  educational-num  \\\n",
       "894   27    Private  302406       Masters               14   \n",
       "895   17    Private  218124          11th                7   \n",
       "896   24    Private  127139  Some-college               10   \n",
       "897   35    Private  132879  Some-college               10   \n",
       "898   37  Local-gov   44694       Masters               14   \n",
       "\n",
       "         marital-status      occupation relationship   race  gender  \\\n",
       "894  Married-civ-spouse  Prof-specialty      Husband  White    Male   \n",
       "895       Never-married           Sales    Own-child  White  Female   \n",
       "896       Never-married    Adm-clerical    Own-child  White  Female   \n",
       "897  Married-civ-spouse    Tech-support      Husband  White    Male   \n",
       "898  Married-civ-spouse  Prof-specialty         Wife  White  Female   \n",
       "\n",
       "     capital-gain  capital-loss  hours-per-week native-country  \n",
       "894             0             0              55  United-States  \n",
       "895             0             0              20  United-States  \n",
       "896             0             0              40  United-States  \n",
       "897             0             0              40  United-States  \n",
       "898             0             0              45  United-States  "
      ]
     },
     "execution_count": 29,
     "metadata": {},
     "output_type": "execute_result"
    }
   ],
   "source": [
    "df2.tail(5)"
   ]
  },
  {
   "cell_type": "code",
   "execution_count": 30,
   "id": "04b1ca9f",
   "metadata": {},
   "outputs": [
    {
     "data": {
      "text/html": [
       "<div>\n",
       "<style scoped>\n",
       "    .dataframe tbody tr th:only-of-type {\n",
       "        vertical-align: middle;\n",
       "    }\n",
       "\n",
       "    .dataframe tbody tr th {\n",
       "        vertical-align: top;\n",
       "    }\n",
       "\n",
       "    .dataframe thead th {\n",
       "        text-align: right;\n",
       "    }\n",
       "</style>\n",
       "<table border=\"1\" class=\"dataframe\">\n",
       "  <thead>\n",
       "    <tr style=\"text-align: right;\">\n",
       "      <th></th>\n",
       "      <th>age</th>\n",
       "      <th>fnlwgt</th>\n",
       "      <th>educational-num</th>\n",
       "      <th>capital-gain</th>\n",
       "      <th>capital-loss</th>\n",
       "      <th>hours-per-week</th>\n",
       "    </tr>\n",
       "  </thead>\n",
       "  <tbody>\n",
       "    <tr>\n",
       "      <th>count</th>\n",
       "      <td>899.000000</td>\n",
       "      <td>899.000000</td>\n",
       "      <td>899.000000</td>\n",
       "      <td>899.000000</td>\n",
       "      <td>899.000000</td>\n",
       "      <td>899.000000</td>\n",
       "    </tr>\n",
       "    <tr>\n",
       "      <th>mean</th>\n",
       "      <td>38.576196</td>\n",
       "      <td>194150.017798</td>\n",
       "      <td>10.185762</td>\n",
       "      <td>728.913237</td>\n",
       "      <td>111.929922</td>\n",
       "      <td>41.121246</td>\n",
       "    </tr>\n",
       "    <tr>\n",
       "      <th>std</th>\n",
       "      <td>13.079061</td>\n",
       "      <td>104945.494349</td>\n",
       "      <td>2.477511</td>\n",
       "      <td>4355.969800</td>\n",
       "      <td>442.980441</td>\n",
       "      <td>12.397005</td>\n",
       "    </tr>\n",
       "    <tr>\n",
       "      <th>min</th>\n",
       "      <td>17.000000</td>\n",
       "      <td>21472.000000</td>\n",
       "      <td>1.000000</td>\n",
       "      <td>0.000000</td>\n",
       "      <td>0.000000</td>\n",
       "      <td>2.000000</td>\n",
       "    </tr>\n",
       "    <tr>\n",
       "      <th>25%</th>\n",
       "      <td>28.000000</td>\n",
       "      <td>120925.500000</td>\n",
       "      <td>9.000000</td>\n",
       "      <td>0.000000</td>\n",
       "      <td>0.000000</td>\n",
       "      <td>40.000000</td>\n",
       "    </tr>\n",
       "    <tr>\n",
       "      <th>50%</th>\n",
       "      <td>37.000000</td>\n",
       "      <td>181434.000000</td>\n",
       "      <td>10.000000</td>\n",
       "      <td>0.000000</td>\n",
       "      <td>0.000000</td>\n",
       "      <td>40.000000</td>\n",
       "    </tr>\n",
       "    <tr>\n",
       "      <th>75%</th>\n",
       "      <td>48.000000</td>\n",
       "      <td>243670.000000</td>\n",
       "      <td>13.000000</td>\n",
       "      <td>0.000000</td>\n",
       "      <td>0.000000</td>\n",
       "      <td>45.000000</td>\n",
       "    </tr>\n",
       "    <tr>\n",
       "      <th>max</th>\n",
       "      <td>90.000000</td>\n",
       "      <td>857532.000000</td>\n",
       "      <td>16.000000</td>\n",
       "      <td>99999.000000</td>\n",
       "      <td>2415.000000</td>\n",
       "      <td>99.000000</td>\n",
       "    </tr>\n",
       "  </tbody>\n",
       "</table>\n",
       "</div>"
      ],
      "text/plain": [
       "              age         fnlwgt  educational-num  capital-gain  capital-loss  \\\n",
       "count  899.000000     899.000000       899.000000    899.000000    899.000000   \n",
       "mean    38.576196  194150.017798        10.185762    728.913237    111.929922   \n",
       "std     13.079061  104945.494349         2.477511   4355.969800    442.980441   \n",
       "min     17.000000   21472.000000         1.000000      0.000000      0.000000   \n",
       "25%     28.000000  120925.500000         9.000000      0.000000      0.000000   \n",
       "50%     37.000000  181434.000000        10.000000      0.000000      0.000000   \n",
       "75%     48.000000  243670.000000        13.000000      0.000000      0.000000   \n",
       "max     90.000000  857532.000000        16.000000  99999.000000   2415.000000   \n",
       "\n",
       "       hours-per-week  \n",
       "count      899.000000  \n",
       "mean        41.121246  \n",
       "std         12.397005  \n",
       "min          2.000000  \n",
       "25%         40.000000  \n",
       "50%         40.000000  \n",
       "75%         45.000000  \n",
       "max         99.000000  "
      ]
     },
     "execution_count": 30,
     "metadata": {},
     "output_type": "execute_result"
    }
   ],
   "source": [
    "df2.describe()"
   ]
  },
  {
   "cell_type": "code",
   "execution_count": 31,
   "id": "2dbe588e",
   "metadata": {},
   "outputs": [
    {
     "name": "stdout",
     "output_type": "stream",
     "text": [
      "Shape of df2: (400, 7)\n"
     ]
    }
   ],
   "source": [
    "print(f'Shape of df2: {df.shape}')"
   ]
  },
  {
   "cell_type": "code",
   "execution_count": 32,
   "id": "68d7b4f2",
   "metadata": {},
   "outputs": [
    {
     "data": {
      "text/plain": [
       "age                0\n",
       "workclass          0\n",
       "fnlwgt             0\n",
       "education          0\n",
       "educational-num    0\n",
       "marital-status     0\n",
       "occupation         0\n",
       "relationship       0\n",
       "race               0\n",
       "gender             0\n",
       "capital-gain       0\n",
       "capital-loss       0\n",
       "hours-per-week     0\n",
       "native-country     0\n",
       "dtype: int64"
      ]
     },
     "execution_count": 32,
     "metadata": {},
     "output_type": "execute_result"
    }
   ],
   "source": [
    "df2.isna().sum()"
   ]
  },
  {
   "cell_type": "code",
   "execution_count": 33,
   "id": "cdf891f3",
   "metadata": {},
   "outputs": [
    {
     "name": "stdout",
     "output_type": "stream",
     "text": [
      "<class 'pandas.core.frame.DataFrame'>\n",
      "RangeIndex: 899 entries, 0 to 898\n",
      "Data columns (total 14 columns):\n",
      " #   Column           Non-Null Count  Dtype \n",
      "---  ------           --------------  ----- \n",
      " 0   age              899 non-null    int64 \n",
      " 1   workclass        899 non-null    object\n",
      " 2   fnlwgt           899 non-null    int64 \n",
      " 3   education        899 non-null    object\n",
      " 4   educational-num  899 non-null    int64 \n",
      " 5   marital-status   899 non-null    object\n",
      " 6   occupation       899 non-null    object\n",
      " 7   relationship     899 non-null    object\n",
      " 8   race             899 non-null    object\n",
      " 9   gender           899 non-null    object\n",
      " 10  capital-gain     899 non-null    int64 \n",
      " 11  capital-loss     899 non-null    int64 \n",
      " 12  hours-per-week   899 non-null    int64 \n",
      " 13  native-country   899 non-null    object\n",
      "dtypes: int64(6), object(8)\n",
      "memory usage: 98.5+ KB\n"
     ]
    }
   ],
   "source": [
    "df2.info()"
   ]
  },
  {
   "cell_type": "code",
   "execution_count": 33,
   "id": "628b346e",
   "metadata": {},
   "outputs": [
    {
     "data": {
      "text/html": [
       "<div>\n",
       "<style scoped>\n",
       "    .dataframe tbody tr th:only-of-type {\n",
       "        vertical-align: middle;\n",
       "    }\n",
       "\n",
       "    .dataframe tbody tr th {\n",
       "        vertical-align: top;\n",
       "    }\n",
       "\n",
       "    .dataframe thead th {\n",
       "        text-align: right;\n",
       "    }\n",
       "</style>\n",
       "<table border=\"1\" class=\"dataframe\">\n",
       "  <thead>\n",
       "    <tr style=\"text-align: right;\">\n",
       "      <th></th>\n",
       "      <th>age</th>\n",
       "      <th>fnlwgt</th>\n",
       "      <th>educational-num</th>\n",
       "      <th>capital-gain</th>\n",
       "      <th>capital-loss</th>\n",
       "      <th>hours-per-week</th>\n",
       "    </tr>\n",
       "  </thead>\n",
       "  <tbody>\n",
       "    <tr>\n",
       "      <th>age</th>\n",
       "      <td>1.000000</td>\n",
       "      <td>-0.080842</td>\n",
       "      <td>0.023774</td>\n",
       "      <td>0.087611</td>\n",
       "      <td>0.061419</td>\n",
       "      <td>0.088207</td>\n",
       "    </tr>\n",
       "    <tr>\n",
       "      <th>fnlwgt</th>\n",
       "      <td>-0.080842</td>\n",
       "      <td>1.000000</td>\n",
       "      <td>-0.044700</td>\n",
       "      <td>-0.003582</td>\n",
       "      <td>-0.018118</td>\n",
       "      <td>-0.042245</td>\n",
       "    </tr>\n",
       "    <tr>\n",
       "      <th>educational-num</th>\n",
       "      <td>0.023774</td>\n",
       "      <td>-0.044700</td>\n",
       "      <td>1.000000</td>\n",
       "      <td>0.104104</td>\n",
       "      <td>0.096853</td>\n",
       "      <td>0.134613</td>\n",
       "    </tr>\n",
       "    <tr>\n",
       "      <th>capital-gain</th>\n",
       "      <td>0.087611</td>\n",
       "      <td>-0.003582</td>\n",
       "      <td>0.104104</td>\n",
       "      <td>1.000000</td>\n",
       "      <td>-0.042329</td>\n",
       "      <td>0.077231</td>\n",
       "    </tr>\n",
       "    <tr>\n",
       "      <th>capital-loss</th>\n",
       "      <td>0.061419</td>\n",
       "      <td>-0.018118</td>\n",
       "      <td>0.096853</td>\n",
       "      <td>-0.042329</td>\n",
       "      <td>1.000000</td>\n",
       "      <td>0.060963</td>\n",
       "    </tr>\n",
       "    <tr>\n",
       "      <th>hours-per-week</th>\n",
       "      <td>0.088207</td>\n",
       "      <td>-0.042245</td>\n",
       "      <td>0.134613</td>\n",
       "      <td>0.077231</td>\n",
       "      <td>0.060963</td>\n",
       "      <td>1.000000</td>\n",
       "    </tr>\n",
       "  </tbody>\n",
       "</table>\n",
       "</div>"
      ],
      "text/plain": [
       "                      age    fnlwgt  educational-num  capital-gain  \\\n",
       "age              1.000000 -0.080842         0.023774      0.087611   \n",
       "fnlwgt          -0.080842  1.000000        -0.044700     -0.003582   \n",
       "educational-num  0.023774 -0.044700         1.000000      0.104104   \n",
       "capital-gain     0.087611 -0.003582         0.104104      1.000000   \n",
       "capital-loss     0.061419 -0.018118         0.096853     -0.042329   \n",
       "hours-per-week   0.088207 -0.042245         0.134613      0.077231   \n",
       "\n",
       "                 capital-loss  hours-per-week  \n",
       "age                  0.061419        0.088207  \n",
       "fnlwgt              -0.018118       -0.042245  \n",
       "educational-num      0.096853        0.134613  \n",
       "capital-gain        -0.042329        0.077231  \n",
       "capital-loss         1.000000        0.060963  \n",
       "hours-per-week       0.060963        1.000000  "
      ]
     },
     "execution_count": 33,
     "metadata": {},
     "output_type": "execute_result"
    }
   ],
   "source": [
    "df2.corr()"
   ]
  },
  {
   "cell_type": "markdown",
   "id": "92cfe2ed",
   "metadata": {},
   "source": [
    "### Data Analysis: part 4"
   ]
  },
  {
   "cell_type": "markdown",
   "id": "5fe0f0b3",
   "metadata": {},
   "source": [
    "#### Getting more detailed information about the data"
   ]
  },
  {
   "cell_type": "code",
   "execution_count": 34,
   "id": "f5331d08",
   "metadata": {},
   "outputs": [
    {
     "data": {
      "application/vnd.jupyter.widget-view+json": {
       "model_id": "5744a070bce947f5826d1bbb1eb11afb",
       "version_major": 2,
       "version_minor": 0
      },
      "text/plain": [
       "                                             |      | [  0%]   00:00 -> (? left)"
      ]
     },
     "metadata": {},
     "output_type": "display_data"
    },
    {
     "name": "stdout",
     "output_type": "stream",
     "text": [
      "Report output.html was generated! NOTEBOOK/COLAB USERS: the web browser MAY not pop up, regardless, the report IS saved in your notebook/colab files.\n"
     ]
    }
   ],
   "source": [
    "analyze_two = sw.analyze(df2)\n",
    "analyze_two.show_html('output.html', open_browser=True)"
   ]
  },
  {
   "cell_type": "markdown",
   "id": "9b04f3a9",
   "metadata": {},
   "source": [
    "### Data Analysis: part 5"
   ]
  },
  {
   "cell_type": "markdown",
   "id": "29d8c66c",
   "metadata": {},
   "source": [
    "##### From the previous data analysis, we found out that people with incomes from 120k to 150k are more likely to make purchases, my assumptions are that these are white people and one with higher education"
   ]
  },
  {
   "cell_type": "code",
   "execution_count": 35,
   "id": "4854491c",
   "metadata": {},
   "outputs": [
    {
     "data": {
      "image/png": "[encoded data removed]",
      "text/plain": [
       "<Figure size 640x480 with 1 Axes>"
      ]
     },
     "metadata": {},
     "output_type": "display_data"
    }
   ],
   "source": [
    "t = df2[(df2['educational-num'] >= 10) & (df2['fnlwgt'] >= 120000) & (df2['fnlwgt'] <= 150000)]['educational-num'].count()\n",
    "d = df2[(df2['educational-num'] < 10) & (df2['fnlwgt'] >= 120000) & (df2['fnlwgt'] <= 150000)]['educational-num'].count()\n",
    "y = np.array([t, d])\n",
    "mylabels = [\"HIGHER_EDU\", \"SCHOOL\"]\n",
    "plt.pie(y, labels = mylabels)\n",
    "plt.legend()\n",
    "plt.show() "
   ]
  },
  {
   "cell_type": "code",
   "execution_count": 36,
   "id": "84325c5e",
   "metadata": {},
   "outputs": [
    {
     "data": {
      "image/png": "[encoded data removed]",
      "text/plain": [
       "<Figure size 640x480 with 1 Axes>"
      ]
     },
     "metadata": {},
     "output_type": "display_data"
    }
   ],
   "source": [
    "t = df2[(df2['race'] == 'White') & (df2['fnlwgt'] >= 120000) & (df2['fnlwgt'] <= 150000)]['educational-num'].count()\n",
    "d = df2[(df2['race'] != 'White') & (df2['fnlwgt'] >= 120000) & (df2['fnlwgt'] <= 150000)]['educational-num'].count()\n",
    "y = np.array([t, d])\n",
    "mylabels = [\"WHITE\", \"NOT\"]\n",
    "plt.pie(y, labels = mylabels)\n",
    "plt.legend()\n",
    "plt.show() "
   ]
  },
  {
   "cell_type": "markdown",
   "id": "de4c3ecb",
   "metadata": {},
   "source": [
    "##### People who get from 120k to 150k are most often those who got higher education and their race is white "
   ]
  },
  {
   "cell_type": "markdown",
   "id": "a82b3052",
   "metadata": {},
   "source": [
    "### Data Visualization: part 1"
   ]
  },
  {
   "cell_type": "markdown",
   "id": "928d5089",
   "metadata": {},
   "source": [
    "#### 1. Pairwise dependencies of the features"
   ]
  },
  {
   "cell_type": "code",
   "execution_count": 170,
   "id": "14e3d3a7",
   "metadata": {},
   "outputs": [
    {
     "data": {
      "image/png": "[encoded data removed]",
      "text/plain": [
       "<Figure size 1250x1250 with 30 Axes>"
      ]
     },
     "metadata": {},
     "output_type": "display_data"
    }
   ],
   "source": [
    "sns.pairplot(df[['Gender', 'Age', 'EstimatedSalary', 'Purchased', 'Salary_median', 'Age_median']]);"
   ]
  },
  {
   "cell_type": "markdown",
   "id": "0ed46038",
   "metadata": {},
   "source": [
    "### Data Visualization: part 2"
   ]
  },
  {
   "cell_type": "markdown",
   "id": "bf08303f",
   "metadata": {},
   "source": [
    "#### Purchased pie-chart:"
   ]
  },
  {
   "cell_type": "code",
   "execution_count": 35,
   "id": "eb6babd4",
   "metadata": {},
   "outputs": [
    {
     "data": {
      "image/png": "[encoded data removed]",
      "text/plain": [
       "<Figure size 640x480 with 1 Axes>"
      ]
     },
     "metadata": {},
     "output_type": "display_data"
    }
   ],
   "source": [
    "t = df[df['Purchased'] == 1]['Purchased'].count()\n",
    "d = df[df['Purchased'] == 0]['Purchased'].count()\n",
    "y = np.array([t, d])\n",
    "mylabels = [\"Purchased\", \"NOT\"]\n",
    "plt.pie(y, labels = mylabels)\n",
    "plt.legend()\n",
    "plt.show() "
   ]
  },
  {
   "cell_type": "markdown",
   "id": "2805594b",
   "metadata": {},
   "source": [
    "#### Age of users:"
   ]
  },
  {
   "cell_type": "code",
   "execution_count": 167,
   "id": "8dd7c9d1",
   "metadata": {},
   "outputs": [
    {
     "data": {
      "text/plain": [
       "Gender\n",
       "Female    AxesSubplot(0.125,0.11;0.775x0.77)\n",
       "Male      AxesSubplot(0.125,0.11;0.775x0.77)\n",
       "Name: Age, dtype: object"
      ]
     },
     "execution_count": 167,
     "metadata": {},
     "output_type": "execute_result"
    },
    {
     "data": {
      "image/png": "[encoded data removed]",
      "text/plain": [
       "<Figure size 640x480 with 1 Axes>"
      ]
     },
     "metadata": {},
     "output_type": "display_data"
    }
   ],
   "source": [
    "df.groupby('Gender')['Age'].plot(kind='kde', xlim=[18, 60], legend = True)"
   ]
  },
  {
   "cell_type": "markdown",
   "id": "e259c688",
   "metadata": {},
   "source": [
    "#### Age and Purchases graf:"
   ]
  },
  {
   "cell_type": "code",
   "execution_count": 25,
   "id": "f82dbdb7",
   "metadata": {},
   "outputs": [
    {
     "data": {
      "text/plain": [
       "Purchased\n",
       "0    AxesSubplot(0.125,0.11;0.775x0.77)\n",
       "1    AxesSubplot(0.125,0.11;0.775x0.77)\n",
       "Name: Age, dtype: object"
      ]
     },
     "execution_count": 25,
     "metadata": {},
     "output_type": "execute_result"
    },
    {
     "data": {
      "image/png": "[encoded data removed]",
      "text/plain": [
       "<Figure size 640x480 with 1 Axes>"
      ]
     },
     "metadata": {},
     "output_type": "display_data"
    }
   ],
   "source": [
    "df.groupby('Purchased')['Age'].plot(kind='hist', bins=20, legend = True)"
   ]
  },
  {
   "cell_type": "markdown",
   "id": "615010cd",
   "metadata": {},
   "source": [
    "####  Amount of purchased depents on salary?"
   ]
  },
  {
   "cell_type": "code",
   "execution_count": 38,
   "id": "9d2497eb",
   "metadata": {},
   "outputs": [
    {
     "data": {
      "text/plain": [
       "Purchased\n",
       "0    AxesSubplot(0.125,0.11;0.775x0.77)\n",
       "1    AxesSubplot(0.125,0.11;0.775x0.77)\n",
       "Name: EstimatedSalary, dtype: object"
      ]
     },
     "execution_count": 38,
     "metadata": {},
     "output_type": "execute_result"
    },
    {
     "data": {
      "image/png": "[encoded data removed]",
      "text/plain": [
       "<Figure size 640x480 with 1 Axes>"
      ]
     },
     "metadata": {},
     "output_type": "display_data"
    }
   ],
   "source": [
    "df.groupby('Purchased')['EstimatedSalary'].plot(kind='kde',xlim=[15000, 200000], legend = True)"
   ]
  }
 ],
 "metadata": {
  "kernelspec": {
   "display_name": "Python 3 (ipykernel)",
   "language": "python",
   "name": "python3"
  },
  "language_info": {
   "codemirror_mode": {
    "name": "ipython",
    "version": 3
   },
   "file_extension": ".py",
   "mimetype": "text/x-python",
   "name": "python",
   "nbconvert_exporter": "python",
   "pygments_lexer": "ipython3",
   "version": "3.9.13"
  }
 },
 "nbformat": 4,
 "nbformat_minor": 5
}
